{
 "cells": [
  {
   "cell_type": "code",
   "execution_count": 33,
   "metadata": {},
   "outputs": [],
   "source": [
    "import pandas as pd\n",
    "import numpy as np\n",
    "import datetime,time\n",
    "\n",
    "da = pd.read_csv('D:\\新零售\\带大类与二级类的附件0.csv')\n",
    "\n",
    "test1 = da[da[\"地点\"].str.contains('A')]  ##利用contains检查字符串并以此分类\n",
    "test1.to_csv('D:/新零售/任务32A.csv',index=False)\n",
    "\n",
    "test2 = da[da[\"地点\"].str.contains('B')]\n",
    "test2.to_csv('D:/新零售/任务32B.csv',index=False)\n",
    "\n",
    "test3 = da[da[\"地点\"].str.contains('C')]\n",
    "test3.to_csv('D:/新零售/任务32C.csv',index=False)\n",
    "\n",
    "test4 = da[da[\"地点\"].str.contains('D')]\n",
    "test4.to_csv('D:/新零售/任务32D.csv',index=False)\n",
    "\n",
    "test5 = da[da[\"地点\"].str.contains('E')]\n",
    "test5.to_csv('D:/新零售/任务32E.csv',index=False)"
   ]
  },
  {
   "cell_type": "code",
   "execution_count": 34,
   "metadata": {},
   "outputs": [
    {
     "name": "stderr",
     "output_type": "stream",
     "text": [
      "D:\\anaconda\\exe\\lib\\site-packages\\ipykernel_launcher.py:6: SettingWithCopyWarning: \n",
      "A value is trying to be set on a copy of a slice from a DataFrame.\n",
      "Try using .loc[row_indexer,col_indexer] = value instead\n",
      "\n",
      "See the caveats in the documentation: http://pandas.pydata.org/pandas-docs/stable/indexing.html#indexing-view-versus-copy\n",
      "  \n",
      "D:\\anaconda\\exe\\lib\\site-packages\\ipykernel_launcher.py:9: SettingWithCopyWarning: \n",
      "A value is trying to be set on a copy of a slice from a DataFrame.\n",
      "Try using .loc[row_indexer,col_indexer] = value instead\n",
      "\n",
      "See the caveats in the documentation: http://pandas.pydata.org/pandas-docs/stable/indexing.html#indexing-view-versus-copy\n",
      "  if __name__ == '__main__':\n",
      "D:\\anaconda\\exe\\lib\\site-packages\\ipykernel_launcher.py:12: SettingWithCopyWarning: \n",
      "A value is trying to be set on a copy of a slice from a DataFrame.\n",
      "Try using .loc[row_indexer,col_indexer] = value instead\n",
      "\n",
      "See the caveats in the documentation: http://pandas.pydata.org/pandas-docs/stable/indexing.html#indexing-view-versus-copy\n",
      "  if sys.path[0] == '':\n",
      "D:\\anaconda\\exe\\lib\\site-packages\\ipykernel_launcher.py:15: SettingWithCopyWarning: \n",
      "A value is trying to be set on a copy of a slice from a DataFrame.\n",
      "Try using .loc[row_indexer,col_indexer] = value instead\n",
      "\n",
      "See the caveats in the documentation: http://pandas.pydata.org/pandas-docs/stable/indexing.html#indexing-view-versus-copy\n",
      "  from ipykernel import kernelapp as app\n"
     ]
    }
   ],
   "source": [
    "data = pd.read_csv('D:\\新零售\\任务32E.csv')\n",
    "data[\"支付时间\"]=pd.to_datetime(data['支付时间'],format='%Y-%m-%d',errors='coerce')\n",
    "data = data.set_index('支付时间')\n",
    "\n",
    "data1 = data['2017-01':'2017-03']  ##按索引提取数据\n",
    "data1['标签1'] = '第一季度'\n",
    "\n",
    "data2 = data['2017-04':'2017-06']\n",
    "data2['标签1'] = '第二季度'\n",
    "\n",
    "data3 = data['2017-07':'2017-09']\n",
    "data3['标签1'] = '第三季度'\n",
    "\n",
    "data4 = data['2017-10':'2017-12']\n",
    "data4['标签1'] = '第四季度'\n",
    "\n",
    "dataa = pd.concat([data1,data2,data3,data4])\n",
    "dataa = dataa.reset_index()\n",
    "target1 = dataa['标签1']"
   ]
  },
  {
   "cell_type": "code",
   "execution_count": 35,
   "metadata": {},
   "outputs": [
    {
     "name": "stdout",
     "output_type": "stream",
     "text": [
      "kk\n"
     ]
    }
   ],
   "source": [
    "datab = pd.read_csv('D:\\新零售\\任务32E.csv')\n",
    "datab[\"支付时间\"]=pd.to_datetime(datab['支付时间'],format='%Y-%m-%d',errors='coerce')\n",
    "\n",
    "old_format = datab['支付时间']\n",
    "datab['支付时间'] = old_format.apply(lambda x: datetime.datetime.strftime(x,format='%H'))\n",
    "datab['标签2'] = '0'\n",
    "datab.loc[(datab['支付时间']=='01')|(datab['支付时间']=='02')|(datab['支付时间']=='03')|(datab['支付时间']=='04')|(datab['支付时间']=='05')|(datab['支付时间']=='06'),'标签2']='夜间售出'\n",
    "datab.loc[(datab['支付时间']=='07')|(datab['支付时间']=='08')|(datab['支付时间']=='09')|(datab['支付时间']=='10')|(datab['支付时间']=='11')|(datab['支付时间']=='12'),'标签2']='上午售出'\n",
    "datab.loc[(datab['支付时间']=='13')|(datab['支付时间']=='14')|(datab['支付时间']=='15')|(datab['支付时间']=='16')|(datab['支付时间']=='17')|(datab['支付时间']=='18'),'标签2']='下午售出'\n",
    "datab.loc[(datab['支付时间']=='19')|(datab['支付时间']=='20')|(datab['支付时间']=='21')|(datab['支付时间']=='22')|(datab['支付时间']=='23')|(datab['支付时间']=='24'),'标签2']='夜间售出'\n",
    "\n",
    "target2 = datab['标签2']\n",
    "target3 = datab['大类']\n",
    "target4 = datab['二级类']\n",
    "\n",
    "biao = {'标签1':target1,\n",
    "        '标签2':target2,\n",
    "        '标签3':target3,\n",
    "        '标签4':target4}\n",
    "usedata = pd.DataFrame(data=biao)  ##创建dataframe\n",
    "usedata.to_csv('D:/新零售/全词云E.csv')\n",
    "print('kk')"
   ]
  },
  {
   "cell_type": "code",
   "execution_count": null,
   "metadata": {},
   "outputs": [],
   "source": []
  }
 ],
 "metadata": {
  "kernelspec": {
   "display_name": "Python 3",
   "language": "python",
   "name": "python3"
  },
  "language_info": {
   "codemirror_mode": {
    "name": "ipython",
    "version": 3
   },
   "file_extension": ".py",
   "mimetype": "text/x-python",
   "name": "python",
   "nbconvert_exporter": "python",
   "pygments_lexer": "ipython3",
   "version": "3.7.3"
  }
 },
 "nbformat": 4,
 "nbformat_minor": 2
}
