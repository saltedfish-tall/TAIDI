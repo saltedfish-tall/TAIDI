{
 "cells": [
  {
   "cell_type": "code",
   "execution_count": 1,
   "metadata": {},
   "outputs": [],
   "source": [
    "import pandas as pd\n",
    "import numpy as np\n",
    "import datetime,time\n",
    "\n",
    "data = pd.read_csv('D:\\新零售\\带大类与二级类的附件0.csv')\n",
    "\n",
    "data1 = data[data[\"大类\"].str.contains('非')]  ##检查字符串并分离保存\n",
    "data1.to_csv('D:/新零售/附件0非饮料类.csv',index=False)\n",
    "\n",
    "data = data.set_index('大类')  ##设置索引\n",
    "data2 = data.drop('非饮料')  ##按索引删除\n",
    "data2 = data2.reset_index()  ##还原索引\n",
    "data2.to_csv('D:/新零售/附件0饮料类.csv',index=False)"
   ]
  },
  {
   "cell_type": "code",
   "execution_count": 2,
   "metadata": {},
   "outputs": [],
   "source": [
    "drink = pd.read_csv('D:\\新零售\\附件0饮料类.csv')\n",
    "drink['支付时间'] = pd.to_datetime(drink['支付时间'],format='%Y-%m-%d')\n",
    "\n",
    "test1 = drink[drink[\"地点\"].str.contains('A')]  ##利用contains检查字符串并以此分类\n",
    "test1.to_csv('D:/新零售/任务3A.csv',index=False)\n",
    "\n",
    "test2 = drink[drink[\"地点\"].str.contains('B')]\n",
    "test2.to_csv('D:/新零售/任务3B.csv',index=False)\n",
    "\n",
    "test3 = drink[drink[\"地点\"].str.contains('C')]\n",
    "test3.to_csv('D:/新零售/任务3C.csv',index=False)\n",
    "\n",
    "test4 = drink[drink[\"地点\"].str.contains('D')]\n",
    "test4.to_csv('D:/新零售/任务3D.csv',index=False)\n",
    "\n",
    "test5 = drink[drink[\"地点\"].str.contains('E')]\n",
    "test5.to_csv('D:/新零售/任务3E.csv',index=False)"
   ]
  },
  {
   "cell_type": "code",
   "execution_count": 16,
   "metadata": {},
   "outputs": [
    {
     "name": "stderr",
     "output_type": "stream",
     "text": [
      "D:\\anaconda\\exe\\lib\\site-packages\\ipykernel_launcher.py:6: SettingWithCopyWarning: \n",
      "A value is trying to be set on a copy of a slice from a DataFrame.\n",
      "Try using .loc[row_indexer,col_indexer] = value instead\n",
      "\n",
      "See the caveats in the documentation: http://pandas.pydata.org/pandas-docs/stable/indexing.html#indexing-view-versus-copy\n",
      "  \n",
      "D:\\anaconda\\exe\\lib\\site-packages\\ipykernel_launcher.py:9: SettingWithCopyWarning: \n",
      "A value is trying to be set on a copy of a slice from a DataFrame.\n",
      "Try using .loc[row_indexer,col_indexer] = value instead\n",
      "\n",
      "See the caveats in the documentation: http://pandas.pydata.org/pandas-docs/stable/indexing.html#indexing-view-versus-copy\n",
      "  if __name__ == '__main__':\n",
      "D:\\anaconda\\exe\\lib\\site-packages\\ipykernel_launcher.py:12: SettingWithCopyWarning: \n",
      "A value is trying to be set on a copy of a slice from a DataFrame.\n",
      "Try using .loc[row_indexer,col_indexer] = value instead\n",
      "\n",
      "See the caveats in the documentation: http://pandas.pydata.org/pandas-docs/stable/indexing.html#indexing-view-versus-copy\n",
      "  if sys.path[0] == '':\n",
      "D:\\anaconda\\exe\\lib\\site-packages\\ipykernel_launcher.py:15: SettingWithCopyWarning: \n",
      "A value is trying to be set on a copy of a slice from a DataFrame.\n",
      "Try using .loc[row_indexer,col_indexer] = value instead\n",
      "\n",
      "See the caveats in the documentation: http://pandas.pydata.org/pandas-docs/stable/indexing.html#indexing-view-versus-copy\n",
      "  from ipykernel import kernelapp as app\n"
     ]
    }
   ],
   "source": [
    "drinka = pd.read_csv('D:\\新零售\\任务3E.csv')\n",
    "drinka[\"支付时间\"]=pd.to_datetime(drinka['支付时间'],format='%Y-%m-%d',errors='coerce')\n",
    "drinka = drinka.set_index('支付时间')\n",
    "\n",
    "drinka1 = drinka['2017-01':'2017-03']  ##按索引提取数据\n",
    "drinka1['标签1'] = '第一季度'\n",
    "\n",
    "drinka2 = drinka['2017-04':'2017-06']\n",
    "drinka2['标签1'] = '第二季度'\n",
    "\n",
    "drinka3 = drinka['2017-07':'2017-09']\n",
    "drinka3['标签1'] = '第三季度'\n",
    "\n",
    "drinka4 = drinka['2017-10':'2017-12']\n",
    "drinka4['标签1'] = '第四季度'\n",
    "\n",
    "drinkaa = pd.concat([drinka1,drinka2,drinka3,drinka4])  ##表合并\n",
    "drinkaa = drinkaa.reset_index()\n",
    "\n",
    "target1 = drinkaa['标签1']\n",
    "target2 = drinkaa['二级类']\n",
    "target3 = drinkaa['商品']"
   ]
  },
  {
   "cell_type": "code",
   "execution_count": 17,
   "metadata": {},
   "outputs": [
    {
     "name": "stdout",
     "output_type": "stream",
     "text": [
      "kk\n"
     ]
    }
   ],
   "source": [
    "biao = {'标签1':target1,\n",
    "        '标签2':target2,\n",
    "        '标签3':target3}\n",
    "usedata = pd.DataFrame(data=biao)  ##创建dataframe\n",
    "usedata.to_csv('D:/新零售/词云E.csv')\n",
    "print('kk')"
   ]
  },
  {
   "cell_type": "code",
   "execution_count": null,
   "metadata": {},
   "outputs": [],
   "source": []
  }
 ],
 "metadata": {
  "kernelspec": {
   "display_name": "Python 3",
   "language": "python",
   "name": "python3"
  },
  "language_info": {
   "codemirror_mode": {
    "name": "ipython",
    "version": 3
   },
   "file_extension": ".py",
   "mimetype": "text/x-python",
   "name": "python",
   "nbconvert_exporter": "python",
   "pygments_lexer": "ipython3",
   "version": "3.7.3"
  }
 },
 "nbformat": 4,
 "nbformat_minor": 2
}
